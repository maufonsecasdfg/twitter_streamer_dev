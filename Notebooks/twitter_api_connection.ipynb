{
 "cells": [
  {
   "cell_type": "code",
   "execution_count": 4,
   "metadata": {},
   "outputs": [],
   "source": [
    "#pip3 install python-twitter\n",
    "import twitter"
   ]
  },
  {
   "cell_type": "code",
   "execution_count": 5,
   "metadata": {},
   "outputs": [],
   "source": [
    "api = twitter.Api(consumer_key='RNbWRckUdr1mzMYe2ir2S44aP',\n",
    "  consumer_secret='FVB0RX0nGo1VMRAMF603g7jOKuZdKfCLo0SjXWv2T15wHvLMRy',\n",
    "    access_token_key='1220749681900191744-JDImKJjEF4NadKsiKekx82zDI9FyQW',\n",
    "    access_token_secret='bQaUWESSjNkqhO3d2Sc4pLPmNDYLr5DiRIIS5ko5Sg4yv')"
   ]
  },
  {
   "cell_type": "code",
   "execution_count": 6,
   "metadata": {},
   "outputs": [
    {
     "name": "stdout",
     "output_type": "stream",
     "text": [
      "{\"created_at\": \"Fri Jan 24 16:46:29 +0000 2020\", \"default_profile\": true, \"friends_count\": 7, \"id\": 1220749681900191744, \"id_str\": \"1220749681900191744\", \"name\": \"Luis Felipe Cubero\", \"profile_background_color\": \"F5F8FA\", \"profile_image_url\": \"http://pbs.twimg.com/profile_images/1220750095768903680/FxWNsUy0_normal.jpg\", \"profile_image_url_https\": \"https://pbs.twimg.com/profile_images/1220750095768903680/FxWNsUy0_normal.jpg\", \"profile_link_color\": \"1DA1F2\", \"profile_sidebar_border_color\": \"C0DEED\", \"profile_sidebar_fill_color\": \"DDEEF6\", \"profile_text_color\": \"333333\", \"profile_use_background_image\": true, \"screen_name\": \"LuisFelipeCube1\"}\n"
     ]
    }
   ],
   "source": [
    "print(api.VerifyCredentials())"
   ]
  },
  {
   "cell_type": "code",
   "execution_count": 7,
   "metadata": {},
   "outputs": [
    {
     "data": {
      "text/plain": [
       "[Status(ID=1209649673255948288, ScreenName=vlrgrnt, Created=Wed Dec 25 01:38:50 +0000 2019, Text='@pablooCM https://t.co/qwshmSJPZD'),\n",
       " Status(ID=1209215911980388352, ScreenName=vlrgrnt, Created=Mon Dec 23 20:55:14 +0000 2019, Text='RT @elcarlox: \"sociedad de mierda\" 🚩\\n\"ojalá se acabe el mundo\" 🚩🚩\\n\"merecemos extinguirnos\"🚩🚩🚩'),\n",
       " Status(ID=1208541233624371200, ScreenName=vlrgrnt, Created=Sun Dec 22 00:14:18 +0000 2019, Text='@josuealfaro_cr The Righteous Mind: Why Good People Are Divided by Politics and Religion de Jonathan Haidt'),\n",
       " Status(ID=1206183156942065664, ScreenName=vlrgrnt, Created=Sun Dec 15 12:04:09 +0000 2019, Text='@chrchaves 🔮'),\n",
       " Status(ID=1159698263941029895, ScreenName=vlrgrnt, Created=Fri Aug 09 05:29:46 +0000 2019, Text='@mhariprada Entender que mi comportamiento y el de otras mujeres conmigo era fundamentado en una guerra imaginaria… https://t.co/BirTCzq2Sm'),\n",
       " Status(ID=1159676410375606272, ScreenName=vlrgrnt, Created=Fri Aug 09 04:02:56 +0000 2019, Text='RT @rebeconejo9: ¿Alguien me explica la clase de guerrera que es Andrea Vargas? https://t.co/yJlOPWxVZb'),\n",
       " Status(ID=1158565149910999040, ScreenName=vlrgrnt, Created=Tue Aug 06 02:27:11 +0000 2019, Text='@chrchaves No entiendo nada pero si paga yo voy'),\n",
       " Status(ID=1156360616543756295, ScreenName=vlrgrnt, Created=Wed Jul 31 00:27:09 +0000 2019, Text='RT @BancoCentralCR: Ningún funcionario bancario lo va a contactar para suministrarle su cuenta IBAN, por lo que si un cliente recibe una ll…'),\n",
       " Status(ID=1155462904877109248, ScreenName=vlrgrnt, Created=Sun Jul 28 12:59:58 +0000 2019, Text='RT @LaCourseParker: what if we removed men from political photos: a thread'),\n",
       " Status(ID=1155131230318452736, ScreenName=vlrgrnt, Created=Sat Jul 27 15:02:01 +0000 2019, Text='Recordar que el sábado es el verdadero día de la Feria del Agricultor y todos, indistintamente del color político,… https://t.co/AZEmRJGRzy'),\n",
       " Status(ID=1154788340157308929, ScreenName=vlrgrnt, Created=Fri Jul 26 16:19:29 +0000 2019, Text='@PabloMIturrieta Así como se condena más duro al hombre que mata a su padre que a un extraño, es mucho más reprocha… https://t.co/OoD8V2chKC'),\n",
       " Status(ID=1154567128982413313, ScreenName=vlrgrnt, Created=Fri Jul 26 01:40:29 +0000 2019, Text='https://t.co/ZVGjarN7KP'),\n",
       " Status(ID=1153674966694539266, ScreenName=vlrgrnt, Created=Tue Jul 23 14:35:20 +0000 2019, Text='@chrchaves 🤖'),\n",
       " Status(ID=1151136564325437440, ScreenName=vlrgrnt, Created=Tue Jul 16 14:28:38 +0000 2019, Text='¿Qué será con los carnívoros que nos chima tanto que la gente escoja algo diferente SIN QUE NOS AFECTE EN NADA? https://t.co/3aQ39CctdC'),\n",
       " Status(ID=1149079834355798017, ScreenName=vlrgrnt, Created=Wed Jul 10 22:15:56 +0000 2019, Text='RT @philippeheymans: Ah, ¿cómo?, ¿había un hilo sobre el drama de Justin Bieber y Selena Gomez? Pues no debo haberme dado cuenta, estaba mu…'),\n",
       " Status(ID=1148036472693493761, ScreenName=vlrgrnt, Created=Mon Jul 08 01:09:59 +0000 2019, Text='RT @ABulnesRoco: Perrito destruye tornado y salva al planeta https://t.co/TZjyqtOSHz'),\n",
       " Status(ID=1147358723494621184, ScreenName=vlrgrnt, Created=Sat Jul 06 04:16:51 +0000 2019, Text='@AnaVM No existen en el # tampoco wow https://t.co/jRLWsVBdv4'),\n",
       " Status(ID=1147356625692504064, ScreenName=vlrgrnt, Created=Sat Jul 06 04:08:31 +0000 2019, Text='@AnaVM DÓNDE ESTÁN ANA DÓNDE'),\n",
       " Status(ID=1147274932025532417, ScreenName=vlrgrnt, Created=Fri Jul 05 22:43:53 +0000 2019, Text='Tocará celebrar julio de formas alternativas. https://t.co/557M0XEy3T'),\n",
       " Status(ID=1147185663579758596, ScreenName=vlrgrnt, Created=Fri Jul 05 16:49:10 +0000 2019, Text='RT @JustinWolfers: Microeconomic decisions create macroeconomic phenomena... https://t.co/DRr7yK8LK2')]"
      ]
     },
     "execution_count": 7,
     "metadata": {},
     "output_type": "execute_result"
    }
   ],
   "source": [
    "statuses = api.GetUserTimeline(screen_name='vlrgrnt')\n",
    "statuses"
   ]
  },
  {
   "cell_type": "code",
   "execution_count": 15,
   "metadata": {},
   "outputs": [
    {
     "data": {
      "text/plain": [
       "[Status(ID=1222931754891300878, ScreenName=aqreal0, Created=Thu Jan 30 17:17:05 +0000 2020, Text='Set your dreams and goals this much high 💪🏻😍\\n\\nBe like #elon\\n\\n#tesla #neuralink #hyperloop #paypal #spaceX… https://t.co/3sQwqGimDi'),\n",
       " Status(ID=1222904035264516107, ScreenName=RenegadeJulie, Created=Thu Jan 30 15:26:57 +0000 2020, Text=\"@Perpetualmaniac @elonmusk is pushing #neuralink chip in the brain, does he have one?  He's a sell out to the Globa… https://t.co/TCX9whZ793\"),\n",
       " Status(ID=1222822036516605952, ScreenName=Mat_Germain_, Created=Thu Jan 30 10:01:07 +0000 2020, Text='#ElonMusk companies latest accomplishments:\\n#SpaceX launches another 60 satellites (240 now in orbit)\\n#Tesla crushe… https://t.co/szhkxqd0nB'),\n",
       " Status(ID=1222786176299323392, ScreenName=marcellodesales, Created=Thu Jan 30 07:38:37 +0000 2020, Text=\"@elonmusk I can wear any #Neuralink's tech if you solve my #tinnitus problem... It's been a loud world for the last 9 months...\"),\n",
       " Status(ID=1222773403637178368, ScreenName=ZeroLaw17, Created=Thu Jan 30 06:47:52 +0000 2020, Text='These are the most powerful rocket engines. We as the humans species can build for space science. 🤯🚀🛰 #Future… https://t.co/vNh5c2CAvJ'),\n",
       " Status(ID=1222768321235427328, ScreenName=Exobiologie, Created=Thu Jan 30 06:27:40 +0000 2020, Text='not sure #Neuralink agrees with that @knutson_brain https://t.co/F3ZyO1HSqX https://t.co/rBwQulZUto'),\n",
       " Status(ID=1222551712046755840, ScreenName=Any1Coin, Created=Wed Jan 29 16:06:56 +0000 2020, Text='-Da Milano a Malpensa a velocità supersonica nel “tubo” di Hyperloop-\\n\\n#any1coin #hyperloop #tesla #elonmusk… https://t.co/syoK5fMW9l'),\n",
       " Status(ID=1222320945894961153, ScreenName=biogirl09, Created=Wed Jan 29 00:49:57 +0000 2020, Text='RT @28delayslater: Latest #Neuralink project allows you to pour data right into your head. Awesome. \\n\\n https://t.co/ADAJVnxOAY'),\n",
       " Status(ID=1222230196100702208, ScreenName=Jennifergalatis, Created=Tue Jan 28 18:49:21 +0000 2020, Text='Symbiosis Nw flm aout Mars and private companies #spacex #neuralink and the new #5G\\nNetwork and how they are relate… https://t.co/2caxbYhSmY'),\n",
       " Status(ID=1222217058101817345, ScreenName=MelaynaLokosky, Created=Tue Jan 28 17:57:09 +0000 2020, Text=\"@Keubiko Tesla *fans* mirroring Elon Musk's own human deficiencies have created a new psychology term: Schadenfreud… https://t.co/0mlZSddOqZ\")]"
      ]
     },
     "execution_count": 15,
     "metadata": {},
     "output_type": "execute_result"
    }
   ],
   "source": [
    "api.GetSearch(term='#neuralink', since=2020-1-1, count=10)"
   ]
  },
  {
   "cell_type": "code",
   "execution_count": 8,
   "metadata": {},
   "outputs": [],
   "source": [
    "usr = api.GetUser(screen_name='vlrgrnt')"
   ]
  },
  {
   "cell_type": "code",
   "execution_count": 9,
   "metadata": {},
   "outputs": [
    {
     "data": {
      "text/plain": [
       "dict_keys(['param_defaults', 'contributors_enabled', 'created_at', 'default_profile', 'default_profile_image', 'description', 'email', 'favourites_count', 'followers_count', 'following', 'friends_count', 'geo_enabled', 'id', 'id_str', 'lang', 'listed_count', 'location', 'name', 'notifications', 'profile_background_color', 'profile_background_image_url', 'profile_background_image_url_https', 'profile_background_tile', 'profile_banner_url', 'profile_image_url', 'profile_image_url_https', 'profile_link_color', 'profile_sidebar_border_color', 'profile_sidebar_fill_color', 'profile_text_color', 'profile_use_background_image', 'protected', 'screen_name', 'status', 'statuses_count', 'time_zone', 'url', 'utc_offset', 'verified', 'withheld_in_countries', 'withheld_scope', '_json'])"
      ]
     },
     "execution_count": 9,
     "metadata": {},
     "output_type": "execute_result"
    }
   ],
   "source": [
    "usr.__dict__.keys()"
   ]
  },
  {
   "cell_type": "code",
   "execution_count": 10,
   "metadata": {},
   "outputs": [
    {
     "data": {
      "text/plain": [
       "{'id': 2272319054,\n",
       " 'id_str': '2272319054',\n",
       " 'name': 'Valeria',\n",
       " 'screen_name': 'vlrgrnt',\n",
       " 'location': 'Costa Rica',\n",
       " 'profile_location': {'id': 'e44e7dc5a2e1c3f1',\n",
       "  'url': 'https://api.twitter.com/1.1/geo/id/e44e7dc5a2e1c3f1.json',\n",
       "  'place_type': 'unknown',\n",
       "  'name': 'Costa Rica',\n",
       "  'full_name': 'Costa Rica',\n",
       "  'country_code': '',\n",
       "  'country': '',\n",
       "  'contained_within': [],\n",
       "  'bounding_box': None,\n",
       "  'attributes': {}},\n",
       " 'description': 'estudié química y derecho y me gradué y ahora quiero salvar el mundo pero no sé cómo',\n",
       " 'url': None,\n",
       " 'entities': {'description': {'urls': []}},\n",
       " 'protected': False,\n",
       " 'followers_count': 131,\n",
       " 'friends_count': 608,\n",
       " 'listed_count': 1,\n",
       " 'created_at': 'Thu Jan 02 01:38:42 +0000 2014',\n",
       " 'favourites_count': 823,\n",
       " 'utc_offset': None,\n",
       " 'time_zone': None,\n",
       " 'geo_enabled': True,\n",
       " 'verified': False,\n",
       " 'statuses_count': 272,\n",
       " 'lang': None,\n",
       " 'status': {'created_at': 'Wed Dec 25 01:38:50 +0000 2019',\n",
       "  'id': 1209649673255948288,\n",
       "  'id_str': '1209649673255948288',\n",
       "  'text': '@pablooCM https://t.co/qwshmSJPZD',\n",
       "  'truncated': False,\n",
       "  'entities': {'hashtags': [],\n",
       "   'symbols': [],\n",
       "   'user_mentions': [{'screen_name': 'pablooCM',\n",
       "     'name': 'Pablo CM',\n",
       "     'id': 327400243,\n",
       "     'id_str': '327400243',\n",
       "     'indices': [0, 9]}],\n",
       "   'urls': [],\n",
       "   'media': [{'id': 1209649665043554304,\n",
       "     'id_str': '1209649665043554304',\n",
       "     'indices': [10, 33],\n",
       "     'media_url': 'http://pbs.twimg.com/media/EMmJ9huXYAA-fNV.jpg',\n",
       "     'media_url_https': 'https://pbs.twimg.com/media/EMmJ9huXYAA-fNV.jpg',\n",
       "     'url': 'https://t.co/qwshmSJPZD',\n",
       "     'display_url': 'pic.twitter.com/qwshmSJPZD',\n",
       "     'expanded_url': 'https://twitter.com/vlrgrnt/status/1209649673255948288/photo/1',\n",
       "     'type': 'photo',\n",
       "     'sizes': {'thumb': {'w': 150, 'h': 150, 'resize': 'crop'},\n",
       "      'large': {'w': 750, 'h': 296, 'resize': 'fit'},\n",
       "      'small': {'w': 680, 'h': 268, 'resize': 'fit'},\n",
       "      'medium': {'w': 750, 'h': 296, 'resize': 'fit'}},\n",
       "     'features': {'large': {'faces': [{'x': 246, 'y': 196, 'h': 55, 'w': 55},\n",
       "        {'x': 385, 'y': 78, 'h': 136, 'w': 136}]},\n",
       "      'orig': {'faces': [{'x': 246, 'y': 196, 'h': 55, 'w': 55},\n",
       "        {'x': 385, 'y': 78, 'h': 136, 'w': 136}]},\n",
       "      'small': {'faces': [{'x': 223, 'y': 177, 'h': 49, 'w': 49},\n",
       "        {'x': 349, 'y': 70, 'h': 123, 'w': 123}]},\n",
       "      'medium': {'faces': [{'x': 246, 'y': 196, 'h': 55, 'w': 55},\n",
       "        {'x': 385, 'y': 78, 'h': 136, 'w': 136}]}}}]},\n",
       "  'extended_entities': {'media': [{'id': 1209649665043554304,\n",
       "     'id_str': '1209649665043554304',\n",
       "     'indices': [10, 33],\n",
       "     'media_url': 'http://pbs.twimg.com/media/EMmJ9huXYAA-fNV.jpg',\n",
       "     'media_url_https': 'https://pbs.twimg.com/media/EMmJ9huXYAA-fNV.jpg',\n",
       "     'url': 'https://t.co/qwshmSJPZD',\n",
       "     'display_url': 'pic.twitter.com/qwshmSJPZD',\n",
       "     'expanded_url': 'https://twitter.com/vlrgrnt/status/1209649673255948288/photo/1',\n",
       "     'type': 'photo',\n",
       "     'sizes': {'thumb': {'w': 150, 'h': 150, 'resize': 'crop'},\n",
       "      'large': {'w': 750, 'h': 296, 'resize': 'fit'},\n",
       "      'small': {'w': 680, 'h': 268, 'resize': 'fit'},\n",
       "      'medium': {'w': 750, 'h': 296, 'resize': 'fit'}},\n",
       "     'features': {'large': {'faces': [{'x': 246, 'y': 196, 'h': 55, 'w': 55},\n",
       "        {'x': 385, 'y': 78, 'h': 136, 'w': 136}]},\n",
       "      'orig': {'faces': [{'x': 246, 'y': 196, 'h': 55, 'w': 55},\n",
       "        {'x': 385, 'y': 78, 'h': 136, 'w': 136}]},\n",
       "      'small': {'faces': [{'x': 223, 'y': 177, 'h': 49, 'w': 49},\n",
       "        {'x': 349, 'y': 70, 'h': 123, 'w': 123}]},\n",
       "      'medium': {'faces': [{'x': 246, 'y': 196, 'h': 55, 'w': 55},\n",
       "        {'x': 385, 'y': 78, 'h': 136, 'w': 136}]}}}]},\n",
       "  'source': '<a href=\"http://twitter.com/download/iphone\" rel=\"nofollow\">Twitter for iPhone</a>',\n",
       "  'in_reply_to_status_id': 1209647204677361664,\n",
       "  'in_reply_to_status_id_str': '1209647204677361664',\n",
       "  'in_reply_to_user_id': 327400243,\n",
       "  'in_reply_to_user_id_str': '327400243',\n",
       "  'in_reply_to_screen_name': 'pablooCM',\n",
       "  'geo': None,\n",
       "  'coordinates': None,\n",
       "  'place': None,\n",
       "  'contributors': None,\n",
       "  'is_quote_status': False,\n",
       "  'retweet_count': 0,\n",
       "  'favorite_count': 0,\n",
       "  'favorited': False,\n",
       "  'retweeted': False,\n",
       "  'possibly_sensitive': False,\n",
       "  'lang': 'und'},\n",
       " 'contributors_enabled': False,\n",
       " 'is_translator': False,\n",
       " 'is_translation_enabled': False,\n",
       " 'profile_background_color': 'C0DEED',\n",
       " 'profile_background_image_url': 'http://abs.twimg.com/images/themes/theme1/bg.png',\n",
       " 'profile_background_image_url_https': 'https://abs.twimg.com/images/themes/theme1/bg.png',\n",
       " 'profile_background_tile': False,\n",
       " 'profile_image_url': 'http://pbs.twimg.com/profile_images/1040630117167452160/orG74bD6_normal.jpg',\n",
       " 'profile_image_url_https': 'https://pbs.twimg.com/profile_images/1040630117167452160/orG74bD6_normal.jpg',\n",
       " 'profile_banner_url': 'https://pbs.twimg.com/profile_banners/2272319054/1420563347',\n",
       " 'profile_link_color': '1DA1F2',\n",
       " 'profile_sidebar_border_color': 'C0DEED',\n",
       " 'profile_sidebar_fill_color': 'DDEEF6',\n",
       " 'profile_text_color': '333333',\n",
       " 'profile_use_background_image': True,\n",
       " 'has_extended_profile': False,\n",
       " 'default_profile': True,\n",
       " 'default_profile_image': False,\n",
       " 'can_media_tag': True,\n",
       " 'followed_by': False,\n",
       " 'following': False,\n",
       " 'follow_request_sent': False,\n",
       " 'notifications': False,\n",
       " 'translator_type': 'none'}"
      ]
     },
     "execution_count": 10,
     "metadata": {},
     "output_type": "execute_result"
    }
   ],
   "source": [
    "usr._json"
   ]
  },
  {
   "cell_type": "code",
   "execution_count": 61,
   "metadata": {},
   "outputs": [
    {
     "data": {
      "text/plain": [
       "{'created_at': 'Thu Jan 30 19:55:17 +0000 2020',\n",
       " 'id': 1222971565844979714,\n",
       " 'id_str': '1222971565844979714',\n",
       " 'text': '@julio https://t.co/biKuktveVr',\n",
       " 'truncated': False,\n",
       " 'entities': {'hashtags': [],\n",
       "  'symbols': [],\n",
       "  'user_mentions': [{'screen_name': 'Julio',\n",
       "    'name': 'Julio Contreras',\n",
       "    'id': 12729802,\n",
       "    'id_str': '12729802',\n",
       "    'indices': [0, 6]}],\n",
       "  'urls': [{'url': 'https://t.co/biKuktveVr',\n",
       "    'expanded_url': 'https://twitter.com/elifeinzaig/status/1222968352089563136',\n",
       "    'display_url': 'twitter.com/elifeinzaig/st…',\n",
       "    'indices': [7, 30]}]},\n",
       " 'source': '<a href=\"http://twitter.com/download/iphone\" rel=\"nofollow\">Twitter for iPhone</a>',\n",
       " 'in_reply_to_status_id': None,\n",
       " 'in_reply_to_status_id_str': None,\n",
       " 'in_reply_to_user_id': 12729802,\n",
       " 'in_reply_to_user_id_str': '12729802',\n",
       " 'in_reply_to_screen_name': 'Julio',\n",
       " 'user': {'id': 2891285033,\n",
       "  'id_str': '2891285033',\n",
       "  'name': 'Esteban Araya Oviedo',\n",
       "  'screen_name': 'EarayaOviedo',\n",
       "  'location': 'Flores, Heredia.',\n",
       "  'description': 'Hijo, hermano, profesional, Católico, provida, “el que no trabaja que no coma, buen jefe🏋️\\u200d♀️🤽🏻\\u200d♂️🍮🥗🧔🏻!hombre joven... la vida esta llena de bendiciones.',\n",
       "  'url': None,\n",
       "  'entities': {'description': {'urls': []}},\n",
       "  'protected': False,\n",
       "  'followers_count': 591,\n",
       "  'friends_count': 606,\n",
       "  'listed_count': 15,\n",
       "  'created_at': 'Mon Nov 24 20:39:55 +0000 2014',\n",
       "  'favourites_count': 73675,\n",
       "  'utc_offset': None,\n",
       "  'time_zone': None,\n",
       "  'geo_enabled': True,\n",
       "  'verified': False,\n",
       "  'statuses_count': 24465,\n",
       "  'lang': None,\n",
       "  'contributors_enabled': False,\n",
       "  'is_translator': False,\n",
       "  'is_translation_enabled': False,\n",
       "  'profile_background_color': 'C0DEED',\n",
       "  'profile_background_image_url': 'http://abs.twimg.com/images/themes/theme1/bg.png',\n",
       "  'profile_background_image_url_https': 'https://abs.twimg.com/images/themes/theme1/bg.png',\n",
       "  'profile_background_tile': False,\n",
       "  'profile_image_url': 'http://pbs.twimg.com/profile_images/1170848616384270336/neuzQ2TG_normal.jpg',\n",
       "  'profile_image_url_https': 'https://pbs.twimg.com/profile_images/1170848616384270336/neuzQ2TG_normal.jpg',\n",
       "  'profile_banner_url': 'https://pbs.twimg.com/profile_banners/2891285033/1577965067',\n",
       "  'profile_image_extensions_alt_text': None,\n",
       "  'profile_banner_extensions_alt_text': None,\n",
       "  'profile_link_color': '1DA1F2',\n",
       "  'profile_sidebar_border_color': 'C0DEED',\n",
       "  'profile_sidebar_fill_color': 'DDEEF6',\n",
       "  'profile_text_color': '333333',\n",
       "  'profile_use_background_image': True,\n",
       "  'has_extended_profile': True,\n",
       "  'default_profile': True,\n",
       "  'default_profile_image': False,\n",
       "  'can_media_tag': True,\n",
       "  'followed_by': False,\n",
       "  'following': False,\n",
       "  'follow_request_sent': False,\n",
       "  'notifications': False,\n",
       "  'translator_type': 'none'},\n",
       " 'geo': None,\n",
       " 'coordinates': None,\n",
       " 'place': {'id': '00deb766245f441c',\n",
       "  'url': 'https://api.twitter.com/1.1/geo/id/00deb766245f441c.json',\n",
       "  'place_type': 'city',\n",
       "  'name': 'San Jose',\n",
       "  'full_name': 'San Jose, Costa Rica',\n",
       "  'country_code': 'CR',\n",
       "  'country': 'Costa Rica',\n",
       "  'contained_within': [],\n",
       "  'bounding_box': {'type': 'Polygon',\n",
       "   'coordinates': [[[-84.1004715, 9.916954],\n",
       "     [-84.0612335, 9.916954],\n",
       "     [-84.0612335, 9.9436464],\n",
       "     [-84.1004715, 9.9436464]]]},\n",
       "  'attributes': {}},\n",
       " 'contributors': None,\n",
       " 'is_quote_status': True,\n",
       " 'quoted_status_id': 1222968352089563136,\n",
       " 'quoted_status_id_str': '1222968352089563136',\n",
       " 'quoted_status': {'created_at': 'Thu Jan 30 19:42:31 +0000 2020',\n",
       "  'id': 1222968352089563136,\n",
       "  'id_str': '1222968352089563136',\n",
       "  'text': 'En la celebración del 20 aniversario de una multinacional en CR, el Presidente @CarlosAlvQ se dejó decir, al respec… https://t.co/lSEmHjPAgt',\n",
       "  'truncated': True,\n",
       "  'entities': {'hashtags': [],\n",
       "   'symbols': [],\n",
       "   'user_mentions': [{'screen_name': 'CarlosAlvQ',\n",
       "     'name': 'Carlos Alvarado Quesada',\n",
       "     'id': 823245705439547394,\n",
       "     'id_str': '823245705439547394',\n",
       "     'indices': [79, 90]}],\n",
       "   'urls': [{'url': 'https://t.co/lSEmHjPAgt',\n",
       "     'expanded_url': 'https://twitter.com/i/web/status/1222968352089563136',\n",
       "     'display_url': 'twitter.com/i/web/status/1…',\n",
       "     'indices': [117, 140]}]},\n",
       "  'source': '<a href=\"https://mobile.twitter.com\" rel=\"nofollow\">Twitter Web App</a>',\n",
       "  'in_reply_to_status_id': None,\n",
       "  'in_reply_to_status_id_str': None,\n",
       "  'in_reply_to_user_id': None,\n",
       "  'in_reply_to_user_id_str': None,\n",
       "  'in_reply_to_screen_name': None,\n",
       "  'user': {'id': 895419694198534148,\n",
       "   'id_str': '895419694198534148',\n",
       "   'name': 'Eli Feinzaig',\n",
       "   'screen_name': 'elifeinzaig',\n",
       "   'location': 'San José, Costa Rica',\n",
       "   'description': 'Economista, consultor y empresario. Liberal, demócrata y librepensador. Presidente del Partido Liberal Progresista.',\n",
       "   'url': 'https://t.co/ixvF1KK5Li',\n",
       "   'entities': {'url': {'urls': [{'url': 'https://t.co/ixvF1KK5Li',\n",
       "       'expanded_url': 'https://www.facebook.com/efeinzaig/',\n",
       "       'display_url': 'facebook.com/efeinzaig/',\n",
       "       'indices': [0, 23]}]},\n",
       "    'description': {'urls': []}},\n",
       "   'protected': False,\n",
       "   'followers_count': 11279,\n",
       "   'friends_count': 565,\n",
       "   'listed_count': 35,\n",
       "   'created_at': 'Wed Aug 09 23:01:06 +0000 2017',\n",
       "   'favourites_count': 6302,\n",
       "   'utc_offset': None,\n",
       "   'time_zone': None,\n",
       "   'geo_enabled': False,\n",
       "   'verified': False,\n",
       "   'statuses_count': 3040,\n",
       "   'lang': None,\n",
       "   'contributors_enabled': False,\n",
       "   'is_translator': False,\n",
       "   'is_translation_enabled': False,\n",
       "   'profile_background_color': '000000',\n",
       "   'profile_background_image_url': 'http://abs.twimg.com/images/themes/theme1/bg.png',\n",
       "   'profile_background_image_url_https': 'https://abs.twimg.com/images/themes/theme1/bg.png',\n",
       "   'profile_background_tile': False,\n",
       "   'profile_image_url': 'http://pbs.twimg.com/profile_images/1218312836306407424/S4YOvSF1_normal.jpg',\n",
       "   'profile_image_url_https': 'https://pbs.twimg.com/profile_images/1218312836306407424/S4YOvSF1_normal.jpg',\n",
       "   'profile_banner_url': 'https://pbs.twimg.com/profile_banners/895419694198534148/1503278762',\n",
       "   'profile_image_extensions_alt_text': None,\n",
       "   'profile_banner_extensions_alt_text': None,\n",
       "   'profile_link_color': 'FF691F',\n",
       "   'profile_sidebar_border_color': '000000',\n",
       "   'profile_sidebar_fill_color': '000000',\n",
       "   'profile_text_color': '000000',\n",
       "   'profile_use_background_image': False,\n",
       "   'has_extended_profile': True,\n",
       "   'default_profile': False,\n",
       "   'default_profile_image': False,\n",
       "   'can_media_tag': True,\n",
       "   'followed_by': False,\n",
       "   'following': False,\n",
       "   'follow_request_sent': False,\n",
       "   'notifications': False,\n",
       "   'translator_type': 'none'},\n",
       "  'geo': None,\n",
       "  'coordinates': None,\n",
       "  'place': None,\n",
       "  'contributors': None,\n",
       "  'is_quote_status': False,\n",
       "  'retweet_count': 18,\n",
       "  'favorite_count': 31,\n",
       "  'favorited': False,\n",
       "  'retweeted': False,\n",
       "  'lang': 'es'},\n",
       " 'retweet_count': 0,\n",
       " 'favorite_count': 0,\n",
       " 'favorited': False,\n",
       " 'retweeted': False,\n",
       " 'possibly_sensitive': False,\n",
       " 'possibly_sensitive_appealable': False,\n",
       " 'lang': 'und'}"
      ]
     },
     "execution_count": 61,
     "metadata": {},
     "output_type": "execute_result"
    }
   ],
   "source": [
    "api.GetStatus(1222971565844979714)._json"
   ]
  },
  {
   "cell_type": "code",
   "execution_count": 58,
   "metadata": {},
   "outputs": [
    {
     "data": {
      "text/plain": [
       "[Status(ID=1222730116918321153, ScreenName=SomosTimbers, Created=Thu Jan 30 03:55:51 +0000 2020, Text='En La Cueva con un viejo amigo. \\U0001f7e3\\n\\n#RCTID | #SomosTimbers https://t.co/zSmB2RifQQ'),\n",
       " Status(ID=1222972693609373699, ScreenName=ReyDeLosBullies, Created=Thu Jan 30 19:59:46 +0000 2020, Text='@Frexini @Pablexcr Que descarado ese mae jaja'),\n",
       " Status(ID=1222972449832292358, ScreenName=EarayaOviedo, Created=Thu Jan 30 19:58:48 +0000 2020, Text='@yorlenydiputada Diputada! Simple que MHacienda desde ADUANAS coloque la tarifa impositiva respectiva!'),\n",
       " Status(ID=1222972312498180096, ScreenName=Dan19184, Created=Thu Jan 30 19:58:15 +0000 2020, Text='Entonces se destapó todo, con esos PAC... jajaja'),\n",
       " Status(ID=1222971855893606402, ScreenName=EarayaOviedo, Created=Thu Jan 30 19:56:26 +0000 2020, Text='@JulioGCOrdoez1 por favor de leerse ese tw!! Como te digo es para tener un criterio más amplio https://t.co/biKuktveVr'),\n",
       " Status(ID=1222971565844979714, ScreenName=EarayaOviedo, Created=Thu Jan 30 19:55:17 +0000 2020, Text='@julio https://t.co/biKuktveVr'),\n",
       " Status(ID=1222971067494477825, ScreenName=JuandyAcuna, Created=Thu Jan 30 19:53:18 +0000 2020, Text='El mítico William Sunsing https://t.co/Otld6kALXk'),\n",
       " Status(ID=1222970906076684288, ScreenName=ReyDeLosBullies, Created=Thu Jan 30 19:52:40 +0000 2020, Text='@Pablexcr @Frexini Cuál otro?'),\n",
       " Status(ID=1222969942376624131, ScreenName=JuandyAcuna, Created=Thu Jan 30 19:48:50 +0000 2020, Text='@ToniKroos https://t.co/wglH5ldPb8'),\n",
       " Status(ID=1222969426544340994, ScreenName=ReyDeLosBullies, Created=Thu Jan 30 19:46:47 +0000 2020, Text='@palinair Al final el resultado ha sido el mismo desde que volvió hace 7 años, lo que vendría siendo una derrota.')]"
      ]
     },
     "execution_count": 58,
     "metadata": {},
     "output_type": "execute_result"
    }
   ],
   "source": [
    "api.GetSearch(since=2020-1-1, count=10, geocode=\"9.93333,-84.08333,5km\")"
   ]
  },
  {
   "cell_type": "code",
   "execution_count": null,
   "metadata": {},
   "outputs": [],
   "source": []
  }
 ],
 "metadata": {
  "kernelspec": {
   "display_name": "Python 3",
   "language": "python",
   "name": "python3"
  },
  "language_info": {
   "codemirror_mode": {
    "name": "ipython",
    "version": 3
   },
   "file_extension": ".py",
   "mimetype": "text/x-python",
   "name": "python",
   "nbconvert_exporter": "python",
   "pygments_lexer": "ipython3",
   "version": "3.7.4"
  },
  "nteract": {
   "version": "0.15.0"
  }
 },
 "nbformat": 4,
 "nbformat_minor": 2
}
